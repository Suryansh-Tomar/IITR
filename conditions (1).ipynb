{
 "cells": [
  {
   "cell_type": "code",
   "execution_count": 1,
   "metadata": {},
   "outputs": [],
   "source": [
    "import pandas as pd\n",
    "import pyodbc\n",
    "from sqlalchemy import create_engine\n",
    "import mysql.connector\n",
    "from datetime import datetime, timedelta"
   ]
  },
  {
   "cell_type": "code",
   "execution_count": 2,
   "metadata": {},
   "outputs": [],
   "source": [
    "db_config = {\n",
    "    'host': 'localhost',\n",
    "    'user': 'root',\n",
    "    'password': 'abcd1234',\n",
    "    'database': 'iitr',\n",
    "}\n",
    "connection = mysql.connector.connect(**db_config)\n",
    "cursor = connection.cursor()\n",
    "engine = create_engine(f\"mysql+mysqlconnector://{db_config['user']}:{db_config['password']}@{db_config['host']}/{db_config['database']}\")"
   ]
  },
  {
   "cell_type": "code",
   "execution_count": 3,
   "metadata": {},
   "outputs": [],
   "source": [
    "connection = mysql.connector.connect(**db_config)\n",
    "cursor = connection.cursor()\n"
   ]
  },
  {
   "cell_type": "code",
   "execution_count": 4,
   "metadata": {},
   "outputs": [
    {
     "name": "stderr",
     "output_type": "stream",
     "text": [
      "/var/folders/vj/lr0smv8s7cjfn1_wjtdkj1c80000gn/T/ipykernel_27707/2436113397.py:4: UserWarning: pandas only supports SQLAlchemy connectable (engine/connection) or database string URI or sqlite3 DBAPI2 connection. Other DBAPI2 objects are not tested. Please consider using SQLAlchemy.\n",
      "  dataframe = pd.read_sql(query, connection)\n"
     ]
    }
   ],
   "source": [
    "\n",
    "\n",
    "query = \"SELECT * FROM stockdata2024\"\n",
    "\n",
    "# Execute the query and load data into a pandas DataFrame\n",
    "dataframe = pd.read_sql(query, connection)\n",
    "\n",
    "# Close the database connection\n",
    "connection.close()\n",
    "\n",
    "\n"
   ]
  },
  {
   "cell_type": "code",
   "execution_count": 5,
   "metadata": {},
   "outputs": [],
   "source": [
    "import numpy as np\n",
    "dataframe = dataframe.replace('-', np.nan)"
   ]
  },
  {
   "cell_type": "code",
   "execution_count": 7,
   "metadata": {},
   "outputs": [
    {
     "name": "stdout",
     "output_type": "stream",
     "text": [
      "['01012024', '02012024', '03012024', '04012024', '05012024', '08012024', '09012024', '10012024', '11012024', '12012024', '15012024', '16012024', '17012024', '18012024', '19012024', '20012024', '23012024', '24012024', '25012024', '29012024', '30012024', '31012024', '01022024', '02022024', '05022024', '06022024', '07022024', '08022024', '09022024', '12022024', '13022024', '14022024', '15022024', '16022024', '19022024', '20022024', '21022024', '22022024', '23022024', '26022024', '27022024', '28022024', '29022024', '01032024', '04032024', '05032024', '06032024', '07032024', '11032024', '12032024', '13032024', '14032024', '15032024', '18032024', '19032024', '20032024', '21032024', '22032024', '26032024', '27032024', '28032024', '01042024', '02042024', '03042024', '04042024', '05042024', '08042024', '09042024', '10042024', '12042024', '15042024', '16042024', '18042024', '19042024', '22042024', '23042024', '24042024', '25042024', '26042024', '29042024', '30042024', '02052024', '03052024', '06052024', '07052024', '08052024', '09052024', '10052024', '13052024', '14052024', '15052024', '16052024', '17052024', '18052024', '21052024', '22052024', '23052024', '24052024', '27052024', '28052024', '29052024', '30052024', '31052024', '03062024', '04062024', '05062024', '06062024', '07062024', '10062024', '11062024', '12062024', '13062024', '14062024', '18062024', '19062024', '20062024', '21062024', '24062024', '25062024', '26062024', '27062024', '28062024', '01072024', '02072024', '03072024', '04072024', '05072024', '08072024', '09072024', '10072024', '11072024', '12072024', '15072024', '16072024', '18072024', '19072024', '22072024', '23072024', '24072024', '25072024', '26072024', '29072024', '30072024', '31072024', '01082024', '02082024', '05082024']\n",
      "147\n"
     ]
    }
   ],
   "source": [
    "dataframe['DATE1'] = pd.to_datetime(dataframe['DATE1'])\n",
    "\n",
    "# Extract distinct dates from the 'date' column\n",
    "distinct_dates = dataframe['DATE1'].drop_duplicates()\n",
    "\n",
    "# Format the dates as \"DDMMYYYY\"\n",
    "dates = distinct_dates.dt.strftime('%d%m%Y').tolist()\n",
    "\n",
    "# Display the list of formatted dates\n",
    "print(dates)\n",
    "print(len(dates))"
   ]
  },
  {
   "cell_type": "code",
   "execution_count": 37,
   "metadata": {},
   "outputs": [
    {
     "name": "stdout",
     "output_type": "stream",
     "text": [
      "122\n"
     ]
    }
   ],
   "source": [
    "print(dates.index('01072024'))"
   ]
  },
  {
   "cell_type": "code",
   "execution_count": 36,
   "metadata": {},
   "outputs": [],
   "source": [
    "# final_ans6 = pd.DataFrame()\n",
    "# final_ans7 = pd.DataFrame()\n",
    "\n",
    "# for i in range(20,21):\n",
    "#     # Select 4 consecutive dates\n",
    "#     selected_dates = dates[i:i + 4]\n",
    "#     # Filter the DataFrame to include only the selected dates\n",
    "#     selected_dates_datetime = [pd.to_datetime(date, format='%d%m%Y') for date in selected_dates]\n",
    "    \n",
    "#     # Filter the DataFrame\n",
    "#     df= dataframe[dataframe['DATE1'].isin(selected_dates_datetime)]\n",
    "#     ans6,ans7= find_pattern(df)\n",
    "    \n",
    "#     final_ans6 = pd.concat([final_ans6, ans6], ignore_index=True).drop_duplicates()\n",
    "#     final_ans7 = pd.concat([final_ans7, ans7], ignore_index=True).drop_duplicates()\n",
    "\n",
    "# Write to CSV\n",
    "#final_ans6.to_csv('filtered_stocks_6cond.csv', index=False)\n",
    "#final_ans7.to_csv('filtered_stocks_7cond.csv', index=False)\n"
   ]
  },
  {
   "cell_type": "code",
   "execution_count": 38,
   "metadata": {},
   "outputs": [],
   "source": [
    "\n",
    "    # Select 4 consecutive dates\n",
    "selected_dates = dates[122:122 + 4]\n",
    "    # Filter the DataFrame to include only the selected dates\n",
    "selected_dates_datetime = [pd.to_datetime(date, format='%d%m%Y') for date in selected_dates]\n",
    "    \n",
    "    # Filter the DataFrame\n",
    "df= dataframe[dataframe['DATE1'].isin(selected_dates_datetime)]\n",
    "#    ans6,ans7= find_pattern(df)"
   ]
  },
  {
   "cell_type": "code",
   "execution_count": 39,
   "metadata": {},
   "outputs": [],
   "source": [
    "filtered_df = df[df['SYMBOL'] == 'NBCC']"
   ]
  },
  {
   "cell_type": "code",
   "execution_count": 40,
   "metadata": {},
   "outputs": [],
   "source": [
    "df = filtered_df.reset_index(drop=True).copy()\n",
    "required_columns = ['SYMBOL', 'CLOSE_PRICE', 'PREV_CLOSE', 'OPEN_PRICE', 'HIGH_PRICE', 'LOW_PRICE', 'TTL_TRD_QNTY', 'DELIV_PER']\n",
    "missing_columns = [col for col in required_columns if col not in df.columns]\n",
    "if missing_columns:\n",
    "    raise KeyError(f\"Missing columns: {', '.join(missing_columns)}\")\n",
    "df['same script'] = 0\n",
    "for i in range(2, len(df)):\n",
    "    if df['SYMBOL'][i] == df['SYMBOL'][i-1] and df['SYMBOL'][i]== df['SYMBOL'][i-2]:\n",
    "         df.at[i, 'same script'] = 1"
   ]
  },
  {
   "cell_type": "code",
   "execution_count": 43,
   "metadata": {},
   "outputs": [],
   "source": [
    "df['%price change'] = None\n",
    "for i in range(0, len(df)):\n",
    "    df.at[i, '%price change'] = 100*(((df['CLOSE_PRICE'][i])-(df['PREV_CLOSE'][i]))/df['PREV_CLOSE'][i])\n"
   ]
  },
  {
   "cell_type": "code",
   "execution_count": 44,
   "metadata": {},
   "outputs": [
    {
     "name": "stdout",
     "output_type": "stream",
     "text": [
      "  SYMBOL SERIES      DATE1  PREV_CLOSE  OPEN_PRICE  HIGH_PRICE  LOW_PRICE  \\\n",
      "0   NBCC     EQ 2024-07-01      156.96      156.98      160.48     155.80   \n",
      "1   NBCC     EQ 2024-07-02      156.60      157.30      163.20     156.32   \n",
      "2   NBCC     EQ 2024-07-03      162.28      163.50      170.41     161.30   \n",
      "3   NBCC     EQ 2024-07-04      169.03      171.52      189.90     170.72   \n",
      "\n",
      "   LAST_PRICE  CLOSE_PRICE  AVG_PRICE  ...  DELIV_PER  same script  \\\n",
      "0      156.63       156.60     157.79  ...      38.40            0   \n",
      "1      162.80       162.28     160.08  ...      36.60            0   \n",
      "2      168.72       169.03     166.91  ...      34.47            1   \n",
      "3      186.50       186.68     180.09  ...      24.69            1   \n",
      "\n",
      "   prev close<today close prev open<today open  Prev Day Vol< Today Vol  \\\n",
      "0                       0                    0                        0   \n",
      "1                       1                    1                        1   \n",
      "2                       1                    1                        1   \n",
      "3                       1                    1                        1   \n",
      "\n",
      "   Prev day del<Today Del  %price change  %3 consecutive chng >2.5       body  \\\n",
      "0                       0      -0.229358                         0   8.119658   \n",
      "1                       0       3.627075                         0  72.383721   \n",
      "2                       0       4.159477                         0  60.702525   \n",
      "3                       0      10.441933                         1  79.040667   \n",
      "\n",
      "   body>65%  \n",
      "0         0  \n",
      "1         0  \n",
      "2         0  \n",
      "3         0  \n",
      "\n",
      "[4 rows x 24 columns]\n"
     ]
    },
    {
     "name": "stderr",
     "output_type": "stream",
     "text": [
      "/var/folders/vj/lr0smv8s7cjfn1_wjtdkj1c80000gn/T/ipykernel_27707/2636461724.py:8: FutureWarning: Setting an item of incompatible dtype is deprecated and will raise an error in a future version of pandas. Value '8.11965811965806' has dtype incompatible with int64, please explicitly cast to a compatible dtype first.\n",
      "  df.at[i,'body'] = (100 * np.abs(df['CLOSE_PRICE'][i] - df['OPEN_PRICE'][i]) / (df['HIGH_PRICE'][i] - df['LOW_PRICE'][i]))\n"
     ]
    }
   ],
   "source": [
    "df['%3 consecutive chng >2.5'] = 0\n",
    "for i in range(2, len(df)):\n",
    "    if df['%price change'][i]>=2.5 and df['%price change'][i-1]>=2.5 and df['%price change'][i-2]>2.5:\n",
    "        df.at[i, '%3 consecutive chng >2.5'] = 1\n",
    " \n",
    "df['body'] = 0\n",
    "for i in range(0, len(df)):\n",
    "    df.at[i,'body'] = (100 * np.abs(df['CLOSE_PRICE'][i] - df['OPEN_PRICE'][i]) / (df['HIGH_PRICE'][i] - df['LOW_PRICE'][i]))\n",
    "    \n",
    "df['body>65%'] = 0\n",
    "for i in range(2, len(df)):\n",
    "    if df['body'][i]>=65 and df['body'][i-1]>=65 and df['body'][i-2]>65:\n",
    "        df.at[i, 'body>65%'] = 1\n",
    "print(df)"
   ]
  },
  {
   "cell_type": "code",
   "execution_count": 45,
   "metadata": {},
   "outputs": [
    {
     "name": "stdout",
     "output_type": "stream",
     "text": [
      "   DELIV_PER  same script  prev close<today close  prev open<today open  \\\n",
      "0      38.40            0                       0                     0   \n",
      "1      36.60            0                       1                     1   \n",
      "2      34.47            1                       1                     1   \n",
      "3      24.69            1                       1                     1   \n",
      "\n",
      "   Prev Day Vol< Today Vol  Prev day del<Today Del %price change  \\\n",
      "0                        0                       0     -0.229358   \n",
      "1                        1                       0      3.627075   \n",
      "2                        1                       0      4.159477   \n",
      "3                        1                       0     10.441933   \n",
      "\n",
      "   %3 consecutive chng >2.5       body  body>65%  \n",
      "0                         0   8.119658         0  \n",
      "1                         0  72.383721         0  \n",
      "2                         0  60.702525         0  \n",
      "3                         1  79.040667         0  \n"
     ]
    }
   ],
   "source": [
    "df['prev close<today close'] = 0\n",
    "for i in range(0, len(df)):\n",
    "    if df['PREV_CLOSE'][i]<df['CLOSE_PRICE'][i]:\n",
    "        df.at[i, 'prev close<today close'] = 1\n",
    "    \n",
    "df['prev open<today open'] = 0\n",
    "for i in range(1, len(df)):\n",
    "    if df['OPEN_PRICE'][i-1]<df['OPEN_PRICE'][i]:\n",
    "        df.at[i, 'prev open<today open'] = 1\n",
    "\n",
    "df['Prev Day Vol< Today Vol']=0\n",
    "for i in range(1, len(df)):\n",
    "    if df['TTL_TRD_QNTY'][i-1]<df['TTL_TRD_QNTY'][i]:\n",
    "        df.at[i, 'Prev Day Vol< Today Vol'] = 1\n",
    "df['DELIV_PER'] = pd.to_numeric(df['DELIV_PER'], errors='coerce')\n",
    "\n",
    "df['Prev day del<Today Del'] = 0\n",
    "for i in range(1, len(df)):\n",
    "    # Check if both previous and current values are not NaN\n",
    "    if not pd.isna(df.at[i-1, 'DELIV_PER']) and not pd.isna(df.at[i, 'DELIV_PER']):\n",
    "        # Compare previous day's DELIV_PER with today's DELIV_PER\n",
    "        if df.at[i-1, 'DELIV_PER'] < df.at[i, 'DELIV_PER']:\n",
    "            df.at[i, 'Prev day del<Today Del'] = 1\n",
    "\n",
    "print(df.iloc[:, -10:])"
   ]
  },
  {
   "cell_type": "code",
   "execution_count": 46,
   "metadata": {},
   "outputs": [
    {
     "name": "stdout",
     "output_type": "stream",
     "text": [
      "   same script  prev close<today close  prev open<today open  \\\n",
      "0            0                       0                     0   \n",
      "1            0                       1                     1   \n",
      "2            1                       1                     1   \n",
      "3            1                       1                     1   \n",
      "\n",
      "   Prev Day Vol< Today Vol  Prev day del<Today Del %price change  \\\n",
      "0                        0                       0     -0.229358   \n",
      "1                        1                       0      3.627075   \n",
      "2                        1                       0      4.159477   \n",
      "3                        1                       0     10.441933   \n",
      "\n",
      "   %3 consecutive chng >2.5       body  body>65%  sum_without_del  \n",
      "0                         0   8.119658         0                0  \n",
      "1                         0  72.383721         0                0  \n",
      "2                         0  60.702525         0                4  \n",
      "3                         1  79.040667         0                5  \n"
     ]
    }
   ],
   "source": [
    "df['sum_without_del']=0\n",
    "for i in range(2, len(df)):\n",
    "    df.at[i, 'sum_without_del'] = df['same script'][i]+df['%3 consecutive chng >2.5'][i]+df['prev close<today close'][i]+df['prev open<today open'][i]+ df['body>65%'][i]+df['Prev Day Vol< Today Vol'][i]\n",
    "res6=(df[df['sum_without_del']>=6])\n",
    "\n",
    "print(df.iloc[:, -10:])"
   ]
  },
  {
   "cell_type": "code",
   "execution_count": 26,
   "metadata": {},
   "outputs": [
    {
     "name": "stdout",
     "output_type": "stream",
     "text": [
      "   %3 consecutive chng >2.5       body  body>65%  prev close<today close  \\\n",
      "3                         1  77.042802         1                       1   \n",
      "\n",
      "   prev open<today open  Prev Day Vol< Today Vol  Prev day del<Today Del  \\\n",
      "3                     1                        1                       0   \n",
      "\n",
      "   sum_without_del  \n",
      "3                6  \n"
     ]
    }
   ],
   "source": [
    "print(res6.iloc[:,-8:])"
   ]
  },
  {
   "cell_type": "code",
   "execution_count": 72,
   "metadata": {},
   "outputs": [],
   "source": [
    "def find_pattern(daf):\n",
    "    df = daf.reset_index(drop=True).copy()\n",
    "    required_columns = ['SYMBOL', 'CLOSE_PRICE', 'PREV_CLOSE', 'OPEN_PRICE', 'HIGH_PRICE', 'LOW_PRICE', 'TTL_TRD_QNTY', 'DELIV_PER']\n",
    "    missing_columns = [col for col in required_columns if col not in df.columns]\n",
    "    if missing_columns:\n",
    "        raise KeyError(f\"Missing columns: {', '.join(missing_columns)}\")\n",
    "    df['same script'] = 0\n",
    "    for i in range(2, len(df)):\n",
    "        if df['SYMBOL'][i] == df['SYMBOL'][i-1] == df['SYMBOL'][i-2]:\n",
    "             df.at[i, 'same script'] = 1\n",
    "             \n",
    "    df['%price change'] = None\n",
    "    for i in range(0, len(df)):\n",
    "        df.at[i, '%price change'] = 100*(((df['CLOSE_PRICE'][i])-(df['PREV_CLOSE'][i]))/df['PREV_CLOSE'][i])\n",
    "\n",
    "    df['%3 consecutive chng >2.5'] = 0\n",
    "    for i in range(2, len(df)):\n",
    "        if df['%price change'][i]>=2.5 and df['%price change'][i-1]>=2.5 and df['%price change'][i-2]>2.5:\n",
    "            df.at[i, '%3 consecutive chng >2.5'] = 1\n",
    " \n",
    "    df['body'] = 0\n",
    "    for i in range(0, len(df)):\n",
    "        df.at[i,'body'] = (100 * np.abs(df['CLOSE_PRICE'][i] - df['OPEN_PRICE'][i]) / (df['HIGH_PRICE'][i] - df['LOW_PRICE'][i]))\n",
    "    \n",
    "    df['body>65%'] = 0\n",
    "    for i in range(2, len(df)):\n",
    "        if df['body'][i]>=65 and df['body'][i-1]>=65 and df['body'][i-2]>65:\n",
    "            df.at[i, 'body>65%'] = 1\n",
    "\n",
    "    df['prev close<today close'] = 0\n",
    "    for i in range(0, len(df)):\n",
    "        if df['PREV_CLOSE'][i]<df['CLOSE_PRICE'][i]:\n",
    "            df.at[i, 'prev close<today close'] = 1\n",
    "    \n",
    "    df['prev open<today open'] = 0\n",
    "    for i in range(1, len(df)):\n",
    "        if df['OPEN_PRICE'][i-1]<df['OPEN_PRICE'][i]:\n",
    "            df.at[i, 'prev open<today open'] = 1\n",
    "\n",
    "    df['Prev Day Vol< Today Vol']=0\n",
    "    for i in range(1, len(df)):\n",
    "        if df['TTL_TRD_QNTY'][i-1]<df['TTL_TRD_QNTY'][i]:\n",
    "            df.at[i, 'Prev Day Vol< Today Vol'] = 1\n",
    "    df['DELIV_PER'] = pd.to_numeric(df['DELIV_PER'], errors='coerce')\n",
    "\n",
    "    df['Prev day del<Today Del'] = 0\n",
    "    for i in range(1, len(df)):\n",
    "    # Check if both previous and current values are not NaN\n",
    "        if not pd.isna(df.at[i-1, 'DELIV_PER']) and not pd.isna(df.at[i, 'DELIV_PER']):\n",
    "        # Compare previous day's DELIV_PER with today's DELIV_PER\n",
    "            if df.at[i-1, 'DELIV_PER'] < df.at[i, 'DELIV_PER']:\n",
    "                df.at[i, 'Prev day del<Today Del'] = 1\n",
    "    \n",
    "    df['sum']=0\n",
    "    for i in range(2, len(df)):\n",
    "        df.at[i, 'sum'] = df['same script'][i]+df['%3 consecutive chng >2.5'][i]+df['prev close<today close'][i]+df['prev open<today open'][i]+ df['body>65%'][i]+df['Prev Day Vol< Today Vol'][i]+df['Prev day del<Today Del'][i]\n",
    "    res7=df[df['sum'] >= 7]\n",
    "\n",
    "    df['sum_without_del']=0\n",
    "    for i in range(2, len(df)):\n",
    "        df.at[i, 'sum_without_del'] = df['same script'][i]+df['%3 consecutive chng >2.5'][i]+df['prev close<today close'][i]+df['prev open<today open'][i]+ df['body>65%'][i]+df['Prev Day Vol< Today Vol'][i]\n",
    "    res6=(df[df['sum_without_del']>=6])\n",
    "    return res6,res7\n",
    "\n"
   ]
  },
  {
   "cell_type": "code",
   "execution_count": null,
   "metadata": {},
   "outputs": [],
   "source": []
  }
 ],
 "metadata": {
  "kernelspec": {
   "display_name": "Python 3",
   "language": "python",
   "name": "python3"
  },
  "language_info": {
   "codemirror_mode": {
    "name": "ipython",
    "version": 3
   },
   "file_extension": ".py",
   "mimetype": "text/x-python",
   "name": "python",
   "nbconvert_exporter": "python",
   "pygments_lexer": "ipython3",
   "version": "3.9.6"
  }
 },
 "nbformat": 4,
 "nbformat_minor": 2
}
